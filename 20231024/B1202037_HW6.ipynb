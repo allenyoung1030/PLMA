{
  "nbformat": 4,
  "nbformat_minor": 0,
  "metadata": {
    "colab": {
      "provenance": []
    },
    "kernelspec": {
      "name": "python3",
      "display_name": "Python 3"
    },
    "language_info": {
      "name": "python"
    }
  },
  "cells": [
    {
      "cell_type": "code",
      "source": [
        "b=int(input())\n",
        "def tree(a):\n",
        "  for i in range(1,a+1):\n",
        "    print(\" \"*(a-i),end=\"\")\n",
        "    print(\"*\"*(2*i-1),end=\"\")\n",
        "    print()\n",
        "  for i in range(0,5):\n",
        "    print(\" \"*(a-2),end=\"\")\n",
        "    print(\"***\",end=\"\")\n",
        "    print()\n",
        "tree(b)"
      ],
      "metadata": {
        "colab": {
          "base_uri": "https://localhost:8080/"
        },
        "id": "wmfgrPtchzks",
        "outputId": "aff4b282-e47c-40d8-c83d-f13dd16b3f78"
      },
      "execution_count": 26,
      "outputs": [
        {
          "output_type": "stream",
          "name": "stdout",
          "text": [
            "20\n",
            "                   *\n",
            "                  ***\n",
            "                 *****\n",
            "                *******\n",
            "               *********\n",
            "              ***********\n",
            "             *************\n",
            "            ***************\n",
            "           *****************\n",
            "          *******************\n",
            "         *********************\n",
            "        ***********************\n",
            "       *************************\n",
            "      ***************************\n",
            "     *****************************\n",
            "    *******************************\n",
            "   *********************************\n",
            "  ***********************************\n",
            " *************************************\n",
            "***************************************\n",
            "                  ***\n",
            "                  ***\n",
            "                  ***\n",
            "                  ***\n",
            "                  ***\n"
          ]
        }
      ]
    },
    {
      "cell_type": "code",
      "source": [
        "def bmi(height,weight):\n",
        "  height=height/100\n",
        "  height*=height\n",
        "  BMI=weight/height\n",
        "  if BMI<18.5:\n",
        "    return \"體位：過輕\"\n",
        "  elif 18.5<=BMI<24:\n",
        "    return \"體位：適中\"\n",
        "  elif 24<=BMI<27:\n",
        "    return \"體位：過重\"\n",
        "  else:\n",
        "    return \"體位：肥胖\"\n",
        "\n",
        "a,b = map(int,input().split())\n",
        "print(bmi(a,b))"
      ],
      "metadata": {
        "colab": {
          "base_uri": "https://localhost:8080/"
        },
        "id": "P0RoCNATkEZz",
        "outputId": "cb2004ec-9928-434b-f6c9-ae9f12664e87"
      },
      "execution_count": 23,
      "outputs": [
        {
          "output_type": "stream",
          "name": "stdout",
          "text": [
            "180 72\n",
            "體位：適中\n"
          ]
        }
      ]
    }
  ]
}
