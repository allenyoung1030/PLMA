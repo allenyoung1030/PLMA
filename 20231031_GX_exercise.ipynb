{
  "nbformat": 4,
  "nbformat_minor": 0,
  "metadata": {
    "colab": {
      "provenance": []
    },
    "kernelspec": {
      "name": "python3",
      "display_name": "Python 3"
    },
    "language_info": {
      "name": "python"
    }
  },
  "cells": [
    {
      "cell_type": "code",
      "execution_count": 39,
      "metadata": {
        "colab": {
          "base_uri": "https://localhost:8080/"
        },
        "id": "JpqtWQ87iv7C",
        "outputId": "406954a4-1eaf-4718-ba0b-d37837a252ad"
      },
      "outputs": [
        {
          "output_type": "stream",
          "name": "stdout",
          "text": [
            "99\n",
            "97\n"
          ]
        }
      ],
      "source": [
        "a=int(input())\n",
        "b=int(a**0.5)\n",
        "index=0\n",
        "if a<2:\n",
        "  print(\"非質數\")\n",
        "  index=1\n",
        "while index==0:\n",
        "  c=0\n",
        "  for i in range(2,b+1):\n",
        "    if a%i==0:\n",
        "      c=c+1\n",
        "      break\n",
        "    else:\n",
        "      continue\n",
        "  if c==0:\n",
        "    print(a)\n",
        "    break\n",
        "  else:\n",
        "    a=a-1"
      ]
    },
    {
      "cell_type": "code",
      "source": [
        "a=list(map(int,input().split(\",\")))\n",
        "b=len(a)\n",
        "g=[]\n",
        "for i in range(0,b):\n",
        "  c=0\n",
        "  for j in range(0,b):\n",
        "    if a[i]>a[j]:\n",
        "      c=c+1\n",
        "    else:\n",
        "      continue\n",
        "  g.append(c)\n",
        "print(g)"
      ],
      "metadata": {
        "colab": {
          "base_uri": "https://localhost:8080/"
        },
        "id": "UEsUw7dUk1sZ",
        "outputId": "21c14912-8359-4ee3-b252-e0f417e31eaf"
      },
      "execution_count": null,
      "outputs": [
        {
          "output_type": "stream",
          "name": "stdout",
          "text": [
            "1,4,2,8,4,2,2\n",
            "[0, 4, 1, 6, 4, 1, 1]\n"
          ]
        }
      ]
    },
    {
      "cell_type": "code",
      "source": [
        "a=str(input())\n",
        "b=len(a)\n",
        "c=[]\n",
        "d=[]\n",
        "for i in range(0,b):\n",
        "  if a[i]==\"1\":\n",
        "    c.append(i)\n",
        "  else:\n",
        "    continue\n",
        "for i in range(0,b):\n",
        "  e=0\n",
        "  for j in c:\n",
        "    e=e+abs(i-j)\n",
        "  d.append(e)\n",
        "print(d)"
      ],
      "metadata": {
        "colab": {
          "base_uri": "https://localhost:8080/"
        },
        "id": "vjncfdhqmV7c",
        "outputId": "1414e1f2-f006-446c-ff46-b283ccf543bc"
      },
      "execution_count": null,
      "outputs": [
        {
          "output_type": "stream",
          "name": "stdout",
          "text": [
            "001011\n",
            "[11, 8, 5, 4, 3, 4]\n"
          ]
        }
      ]
    }
  ]
}