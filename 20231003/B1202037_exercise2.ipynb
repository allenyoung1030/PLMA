{
  "nbformat": 4,
  "nbformat_minor": 0,
  "metadata": {
    "colab": {
      "provenance": []
    },
    "kernelspec": {
      "name": "python3",
      "display_name": "Python 3"
    },
    "language_info": {
      "name": "python"
    }
  },
  "cells": [
    {
      "cell_type": "code",
      "execution_count": null,
      "metadata": {
        "id": "b0yRVZROvn9W"
      },
      "outputs": [],
      "source": [
        "a='C,B,A'\n",
        "b=['F','G','H']\n",
        "c=a.split(\",\")\n",
        "c=c+b\n",
        "c.remove('C')\n",
        "c.insert(0,'K')\n",
        "popped=c.pop(2)\n",
        "print(\"這是第三個元素:\",popped)\n",
        "del c[1:4]\n",
        "d=['U']\n",
        "c=c+d\n",
        "print(\"這是最後結果:\",c)"
      ]
    },
    {
      "cell_type": "code",
      "source": [
        "height=int(input())\n",
        "weight=int(input())\n",
        "height=height/100\n",
        "height*=height\n",
        "BMI=weight/height\n",
        "print(\"BMI:\",end=\"\")\n",
        "print(int(BMI))\n",
        "if BMI<18.5:\n",
        "  print(\"體位：過輕\")\n",
        "elif 18.5<=BMI<24:\n",
        "  print(\"體位：適中\")\n",
        "elif 24<=BMI<27:\n",
        "  print(\"體位：過重\")\n",
        "else:\n",
        "  print(\"體位：肥胖\")"
      ],
      "metadata": {
        "id": "dXVYuq0XvsKk",
        "colab": {
          "base_uri": "https://localhost:8080/"
        },
        "outputId": "ef30faf8-d1ab-4780-f9e7-7c5fc0eff82e"
      },
      "execution_count": 4,
      "outputs": [
        {
          "output_type": "stream",
          "name": "stdout",
          "text": [
            "166\n",
            "55\n",
            "BMI:19\n",
            "體位：適中\n"
          ]
        }
      ]
    }
  ]
}