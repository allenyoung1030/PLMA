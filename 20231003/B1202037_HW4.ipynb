{
  "nbformat": 4,
  "nbformat_minor": 0,
  "metadata": {
    "colab": {
      "provenance": []
    },
    "kernelspec": {
      "name": "python3",
      "display_name": "Python 3"
    },
    "language_info": {
      "name": "python"
    }
  },
  "cells": [
    {
      "cell_type": "code",
      "execution_count": null,
      "metadata": {
        "id": "b0yRVZROvn9W"
      },
      "outputs": [],
      "source": [
        "#1\n",
        "a=list(map(int,input().split()))\n",
        "a.sort()\n",
        "a.pop(0)\n",
        "a.pop()\n",
        "average=(a[0]+a[1]+a[2])/3\n",
        "print(average)"
      ]
    },
    {
      "cell_type": "code",
      "source": [
        "#1\n",
        "a=list(map(int,input().split()))\n",
        "a.sort()\n",
        "a.pop(0)\n",
        "a.pop()\n",
        "b=int(len(a))\n",
        "sum=0\n",
        "for i in range(0,b):\n",
        "  sum=sum+a[i]\n",
        "average=sum/b\n",
        "print(average)"
      ],
      "metadata": {
        "id": "dXVYuq0XvsKk"
      },
      "execution_count": null,
      "outputs": []
    },
    {
      "cell_type": "code",
      "source": [
        "#2\n",
        "print(\"請依序輸入兩個數字和一個運算符號，中間以空白分開\")\n",
        "a,b,c=map(str,input().split())\n",
        "a=int(a)\n",
        "b=int(b)\n",
        "if c==\"+\":\n",
        "  print(a+b)\n",
        "elif c==\"-\":\n",
        "  print(a-b)\n",
        "elif c==\"*\":\n",
        "  print(a*b)\n",
        "elif c==\"/\":\n",
        "  print(a/b)\n",
        "else:\n",
        "  print(\"尚未支援您輸入的運算符號\")"
      ],
      "metadata": {
        "id": "Nqv3LCIHvuBD"
      },
      "execution_count": null,
      "outputs": []
    },
    {
      "cell_type": "code",
      "source": [
        "#3\n",
        "a=int(input())\n",
        "if a%4==0 and a%100!=0 or a%400==0:\n",
        "  print(\"閏年\")\n",
        "else:\n",
        "  print(\"平年\")"
      ],
      "metadata": {
        "id": "dJNcx3oivwhd"
      },
      "execution_count": null,
      "outputs": []
    }
  ]
}
