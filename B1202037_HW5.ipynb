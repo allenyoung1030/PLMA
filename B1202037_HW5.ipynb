{
  "nbformat": 4,
  "nbformat_minor": 0,
  "metadata": {
    "colab": {
      "provenance": []
    },
    "kernelspec": {
      "name": "python3",
      "display_name": "Python 3"
    },
    "language_info": {
      "name": "python"
    }
  },
  "cells": [
    {
      "cell_type": "code",
      "execution_count": 11,
      "metadata": {
        "colab": {
          "base_uri": "https://localhost:8080/"
        },
        "id": "DMBY4sdP_Jrr",
        "outputId": "ce0c5497-a112-4bb7-c933-aee9026e3d4d"
      },
      "outputs": [
        {
          "output_type": "stream",
          "name": "stdout",
          "text": [
            "        *        \n",
            "       ***       \n",
            "      *****      \n",
            "     *******     \n",
            "    *********    \n",
            "   ***********   \n",
            "  *************  \n",
            " *************** \n",
            "*****************\n",
            "       ***       \n",
            "       ***       \n",
            "       ***       \n",
            "       ***       \n",
            "       ***       \n"
          ]
        }
      ],
      "source": [
        "for i in range(1,19,2):\n",
        "  a='*'*i\n",
        "  print(f'{a:^17}')\n",
        "for j in range(0,5):\n",
        "  b='***'\n",
        "  print(f'{b:^17}')"
      ]
    },
    {
      "cell_type": "code",
      "source": [
        "import random\n",
        "goal=random.sample([1,2,3,4,5,6,7,8,9,0],k=4)\n",
        "print(goal)\n",
        "\n",
        "def num(x):\n",
        "  n_1=int(x/1000)\n",
        "  n_2=int((x-n_1*1000)/100)\n",
        "  n_3=int((x-n_1*1000-n_2*100)/10)\n",
        "  n_4=x%10\n",
        "  seq=[n_1,n_2,n_3,n_4]\n",
        "  return seq\n",
        "\n",
        "times=0\n",
        "while True:\n",
        "  test=int(input(\"輸入四個數字(不會重複):\"))\n",
        "  if test>=10000:\n",
        "    print(\"輸入數字過多\")\n",
        "    continue\n",
        "  if test<1000:\n",
        "    print(\"輸入數字過少\")\n",
        "    continue\n",
        "  test_seq=num(test)\n",
        "  pt=0\n",
        "  nt=0\n",
        "  for i in range(0,4):\n",
        "    for j in range(0,4):\n",
        "      if goal[i]==test_seq[j]:\n",
        "        nt=nt+1\n",
        "  for i in range(0,4):\n",
        "    if goal[i]==test_seq[i]:\n",
        "      pt=pt+1\n",
        "      nt=nt-1\n",
        "  print(f'{test}:{pt}A{nt}B')\n",
        "  times=times+1\n",
        "  if test_seq==goal:\n",
        "    print(f'答對了，總共猜了{times}次')\n",
        "    break"
      ],
      "metadata": {
        "colab": {
          "base_uri": "https://localhost:8080/"
        },
        "id": "nMvGWAMWB0uc",
        "outputId": "f975612a-081b-4f02-9361-e531dcb2e0a1"
      },
      "execution_count": 34,
      "outputs": [
        {
          "output_type": "stream",
          "name": "stdout",
          "text": [
            "[6, 0, 7, 5]\n",
            "輸入四個數字(不會重複):12345\n",
            "輸入數字過多\n",
            "輸入四個數字(不會重複):123\n",
            "輸入數字過少\n",
            "輸入四個數字(不會重複):056\n",
            "輸入數字過少\n",
            "輸入四個數字(不會重複):2873\n",
            "2873:1A0B\n",
            "輸入四個數字(不會重複):8763\n",
            "8763:0A2B\n",
            "輸入四個數字(不會重複):2635\n",
            "2635:1A1B\n",
            "輸入四個數字(不會重複):6075\n",
            "6075:4A0B\n",
            "答對了，總共猜了4次\n"
          ]
        }
      ]
    }
  ]
}