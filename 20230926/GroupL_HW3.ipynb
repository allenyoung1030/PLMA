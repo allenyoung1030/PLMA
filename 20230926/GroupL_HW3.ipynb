{
  "nbformat": 4,
  "nbformat_minor": 0,
  "metadata": {
    "colab": {
      "provenance": []
    },
    "kernelspec": {
      "name": "python3",
      "display_name": "Python 3"
    },
    "language_info": {
      "name": "python"
    }
  },
  "cells": [
    {
      "cell_type": "code",
      "execution_count": null,
      "metadata": {
        "colab": {
          "base_uri": "https://localhost:8080/"
        },
        "id": "S9XSZ62omq-Z",
        "outputId": "ff78260f-6691-4729-e36d-2391b4b04545"
      },
      "outputs": [
        {
          "output_type": "stream",
          "name": "stdout",
          "text": [
            "I'm a student.\n"
          ]
        }
      ],
      "source": [
        "#1\n",
        "a=\"I'm a student.\"\n",
        "print(a)"
      ]
    },
    {
      "cell_type": "code",
      "source": [
        "#2\n",
        "x1=float(input('輸入座標A(x1,y1)：'))\n",
        "y1=float(input())\n",
        "x2=float(input('輸入座標B(x2,y2)：'))\n",
        "y2=float(input())\n",
        "print(((x1-x2)**2+(y1-y2)**2)**0.5)"
      ],
      "metadata": {
        "id": "BkTdP0nQm1-c",
        "colab": {
          "base_uri": "https://localhost:8080/"
        },
        "outputId": "e1eda075-ad06-4077-8f0a-182f15847b5a"
      },
      "execution_count": null,
      "outputs": [
        {
          "output_type": "stream",
          "name": "stdout",
          "text": [
            "輸入座標A(x1,y1)：3\n",
            "4\n",
            "輸入座標B(x2,y2)：0\n",
            "0\n",
            "5.0\n"
          ]
        }
      ]
    },
    {
      "cell_type": "code",
      "source": [
        "#3\n",
        "height=float(input('輸入身高：'))\n",
        "weight=float(input('輸入體重：'))\n",
        "height=height/100\n",
        "height*=height\n",
        "BMI=weight/height\n",
        "print(int(BMI<18.5))"
      ],
      "metadata": {
        "colab": {
          "base_uri": "https://localhost:8080/"
        },
        "id": "vwlxEJoxo3dk",
        "outputId": "88e88ad8-20c7-40cb-c6dc-fd0381e9191d"
      },
      "execution_count": null,
      "outputs": [
        {
          "output_type": "stream",
          "name": "stdout",
          "text": [
            "輸入身高：160\n",
            "輸入體重：50\n",
            "0\n"
          ]
        }
      ]
    }
  ]
}